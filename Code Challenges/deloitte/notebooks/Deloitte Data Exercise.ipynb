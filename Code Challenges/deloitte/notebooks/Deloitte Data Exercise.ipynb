{
 "cells": [
  {
   "cell_type": "code",
   "execution_count": 1,
   "metadata": {},
   "outputs": [],
   "source": [
    "import pandas as pd\n",
    "import numpy as np\n",
    "\n",
    "from scipy import stats\n",
    "import re\n",
    "\n",
    "import seaborn as sns\n",
    "sns.set(style=\"whitegrid\")\n",
    "\n",
    "import matplotlib.pyplot as plt"
   ]
  },
  {
   "cell_type": "code",
   "execution_count": 2,
   "metadata": {},
   "outputs": [],
   "source": [
    "females = pd.read_csv('../data/MA_Exer_PikesPeak_Females.txt', sep='\\t')\n",
    "males = pd.read_csv('../data/MA_Exer_PikesPeak_Males.txt', sep='\\t', encoding='latin-1')"
   ]
  },
  {
   "cell_type": "code",
   "execution_count": 3,
   "metadata": {},
   "outputs": [
    {
     "data": {
      "text/html": [
       "<div>\n",
       "<style scoped>\n",
       "    .dataframe tbody tr th:only-of-type {\n",
       "        vertical-align: middle;\n",
       "    }\n",
       "\n",
       "    .dataframe tbody tr th {\n",
       "        vertical-align: top;\n",
       "    }\n",
       "\n",
       "    .dataframe thead th {\n",
       "        text-align: right;\n",
       "    }\n",
       "</style>\n",
       "<table border=\"1\" class=\"dataframe\">\n",
       "  <thead>\n",
       "    <tr style=\"text-align: right;\">\n",
       "      <th></th>\n",
       "      <th>Place</th>\n",
       "      <th>Div/Tot</th>\n",
       "      <th>Num</th>\n",
       "      <th>Name</th>\n",
       "      <th>Ag</th>\n",
       "      <th>Hometown</th>\n",
       "      <th>Gun Tim</th>\n",
       "      <th>Net Tim</th>\n",
       "      <th>Pace</th>\n",
       "    </tr>\n",
       "  </thead>\n",
       "  <tbody>\n",
       "    <tr>\n",
       "      <td>0</td>\n",
       "      <td>1</td>\n",
       "      <td>1/86</td>\n",
       "      <td>30</td>\n",
       "      <td>Florence Jepkosgei</td>\n",
       "      <td>22.0</td>\n",
       "      <td>Kenya .</td>\n",
       "      <td>32:59</td>\n",
       "      <td>32:58#</td>\n",
       "      <td>5:19</td>\n",
       "    </tr>\n",
       "    <tr>\n",
       "      <td>1</td>\n",
       "      <td>2</td>\n",
       "      <td>2/86</td>\n",
       "      <td>8</td>\n",
       "      <td>Eunice Chepkirui</td>\n",
       "      <td>21.0</td>\n",
       "      <td>Kenya .</td>\n",
       "      <td>33:14</td>\n",
       "      <td>33:13#</td>\n",
       "      <td>5:21</td>\n",
       "    </tr>\n",
       "    <tr>\n",
       "      <td>2</td>\n",
       "      <td>3</td>\n",
       "      <td>1/247</td>\n",
       "      <td>3200</td>\n",
       "      <td>Elena Orlova</td>\n",
       "      <td>36.0</td>\n",
       "      <td>Gaithersburg MD</td>\n",
       "      <td>34:26</td>\n",
       "      <td>34:25#</td>\n",
       "      <td>5:33</td>\n",
       "    </tr>\n",
       "    <tr>\n",
       "      <td>3</td>\n",
       "      <td>4</td>\n",
       "      <td>1/173</td>\n",
       "      <td>2</td>\n",
       "      <td>Susannah Kvasnicka</td>\n",
       "      <td>34.0</td>\n",
       "      <td>Great Falls VA</td>\n",
       "      <td>34:43</td>\n",
       "      <td>34:42#</td>\n",
       "      <td>5:35</td>\n",
       "    </tr>\n",
       "    <tr>\n",
       "      <td>4</td>\n",
       "      <td>5</td>\n",
       "      <td>1/142</td>\n",
       "      <td>6</td>\n",
       "      <td>Casey Smith</td>\n",
       "      <td>26.0</td>\n",
       "      <td>Arlington VA</td>\n",
       "      <td>35:04</td>\n",
       "      <td>35:02</td>\n",
       "      <td>5:39</td>\n",
       "    </tr>\n",
       "  </tbody>\n",
       "</table>\n",
       "</div>"
      ],
      "text/plain": [
       "   Place Div/Tot   Num                Name    Ag         Hometown Gun Tim  \\\n",
       "0      1    1/86    30  Florence Jepkosgei  22.0          Kenya .   32:59   \n",
       "1      2    2/86     8    Eunice Chepkirui  21.0          Kenya .   33:14   \n",
       "2      3   1/247  3200        Elena Orlova  36.0  Gaithersburg MD   34:26   \n",
       "3      4   1/173     2  Susannah Kvasnicka  34.0   Great Falls VA   34:43   \n",
       "4      5   1/142     6         Casey Smith  26.0     Arlington VA   35:04   \n",
       "\n",
       "  Net Tim  Pace  \n",
       "0  32:58#  5:19  \n",
       "1  33:13#  5:21  \n",
       "2  34:25#  5:33  \n",
       "3  34:42#  5:35  \n",
       "4   35:02  5:39  "
      ]
     },
     "execution_count": 3,
     "metadata": {},
     "output_type": "execute_result"
    }
   ],
   "source": [
    "females.head()"
   ]
  },
  {
   "cell_type": "code",
   "execution_count": 4,
   "metadata": {},
   "outputs": [],
   "source": [
    "females['sex'] = 0\n",
    "males['sex'] = 1"
   ]
  },
  {
   "cell_type": "code",
   "execution_count": 5,
   "metadata": {},
   "outputs": [],
   "source": [
    "both = pd.merge(males, females, how='outer')"
   ]
  },
  {
   "cell_type": "code",
   "execution_count": 6,
   "metadata": {},
   "outputs": [
    {
     "data": {
      "text/html": [
       "<div>\n",
       "<style scoped>\n",
       "    .dataframe tbody tr th:only-of-type {\n",
       "        vertical-align: middle;\n",
       "    }\n",
       "\n",
       "    .dataframe tbody tr th {\n",
       "        vertical-align: top;\n",
       "    }\n",
       "\n",
       "    .dataframe thead th {\n",
       "        text-align: right;\n",
       "    }\n",
       "</style>\n",
       "<table border=\"1\" class=\"dataframe\">\n",
       "  <thead>\n",
       "    <tr style=\"text-align: right;\">\n",
       "      <th></th>\n",
       "      <th>Place</th>\n",
       "      <th>Div/Tot</th>\n",
       "      <th>Num</th>\n",
       "      <th>Name</th>\n",
       "      <th>Ag</th>\n",
       "      <th>Hometown</th>\n",
       "      <th>Gun Tim</th>\n",
       "      <th>Net Tim</th>\n",
       "      <th>Pace</th>\n",
       "      <th>sex</th>\n",
       "    </tr>\n",
       "  </thead>\n",
       "  <tbody>\n",
       "    <tr>\n",
       "      <td>0</td>\n",
       "      <td>1</td>\n",
       "      <td>1/48</td>\n",
       "      <td>9</td>\n",
       "      <td>Joshua Kemei</td>\n",
       "      <td>22.0</td>\n",
       "      <td>Kenya .</td>\n",
       "      <td>28:48</td>\n",
       "      <td>28:47#</td>\n",
       "      <td>4:38</td>\n",
       "      <td>1</td>\n",
       "    </tr>\n",
       "    <tr>\n",
       "      <td>1</td>\n",
       "      <td>2</td>\n",
       "      <td>2/48</td>\n",
       "      <td>35</td>\n",
       "      <td>George Kirwa Misoi</td>\n",
       "      <td>22.0</td>\n",
       "      <td>Kenya .</td>\n",
       "      <td>29:11</td>\n",
       "      <td>29:10#</td>\n",
       "      <td>4:42</td>\n",
       "      <td>1</td>\n",
       "    </tr>\n",
       "    <tr>\n",
       "      <td>2</td>\n",
       "      <td>3</td>\n",
       "      <td>3/48</td>\n",
       "      <td>3</td>\n",
       "      <td>Jacob Frey</td>\n",
       "      <td>24.0</td>\n",
       "      <td>Oakton VA</td>\n",
       "      <td>29:38</td>\n",
       "      <td>29:37#</td>\n",
       "      <td>4:46</td>\n",
       "      <td>1</td>\n",
       "    </tr>\n",
       "    <tr>\n",
       "      <td>3</td>\n",
       "      <td>4</td>\n",
       "      <td>1/96</td>\n",
       "      <td>49</td>\n",
       "      <td>Gurmessa Kumsa</td>\n",
       "      <td>27.0</td>\n",
       "      <td>Oxon Hill MD</td>\n",
       "      <td>29:46</td>\n",
       "      <td>29:46#</td>\n",
       "      <td>4:48</td>\n",
       "      <td>1</td>\n",
       "    </tr>\n",
       "    <tr>\n",
       "      <td>4</td>\n",
       "      <td>5</td>\n",
       "      <td>4/48</td>\n",
       "      <td>31</td>\n",
       "      <td>Mike Baird</td>\n",
       "      <td>24.0</td>\n",
       "      <td>Ardmore PA</td>\n",
       "      <td>30:31</td>\n",
       "      <td>30:30</td>\n",
       "      <td>4:55</td>\n",
       "      <td>1</td>\n",
       "    </tr>\n",
       "  </tbody>\n",
       "</table>\n",
       "</div>"
      ],
      "text/plain": [
       "   Place Div/Tot  Num                Name    Ag      Hometown Gun Tim Net Tim  \\\n",
       "0      1    1/48    9        Joshua Kemei  22.0       Kenya .   28:48  28:47#   \n",
       "1      2    2/48   35  George Kirwa Misoi  22.0       Kenya .   29:11  29:10#   \n",
       "2      3    3/48    3          Jacob Frey  24.0     Oakton VA   29:38  29:37#   \n",
       "3      4    1/96   49      Gurmessa Kumsa  27.0  Oxon Hill MD   29:46  29:46#   \n",
       "4      5    4/48   31          Mike Baird  24.0    Ardmore PA   30:31   30:30   \n",
       "\n",
       "   Pace  sex  \n",
       "0  4:38    1  \n",
       "1  4:42    1  \n",
       "2  4:46    1  \n",
       "3  4:48    1  \n",
       "4  4:55    1  "
      ]
     },
     "execution_count": 6,
     "metadata": {},
     "output_type": "execute_result"
    }
   ],
   "source": [
    "both.head()"
   ]
  },
  {
   "cell_type": "code",
   "execution_count": 7,
   "metadata": {},
   "outputs": [],
   "source": [
    "# Need to make Net Tim numeric. However, we don't know what units samples lile 1.10.10\n",
    "# Are in. This is a question to ask stakeholders. For now, going under assumption they are minute, second,\\\n",
    "# millisecond and dropping millisecond. Also assuming dropping milisecond is ok :)\n",
    "results = []\n",
    "nots = []\n",
    "for i in both['Net Tim'].tolist():\n",
    "    \n",
    "    try:\n",
    "        i = i.replace('#','')\n",
    "        i = i.replace('*','')\n",
    "        i = i.replace(':','.')\n",
    "        results.append(float(i))\n",
    "        \n",
    "    except:\n",
    "       \n",
    "        minutes, secs = i[2:].split('.')\n",
    "        minutes = minutes.replace('0', '')\n",
    "        \n",
    "        if minutes:\n",
    "            \n",
    "            results.append(float(60 + int(minutes) + float(secs)))\n",
    "        \n",
    "        else:\n",
    "            results.append(float(60 + int(0) + float(secs)))\n",
    "           \n",
    "            \n",
    "        #results.append(float(i[0:4]) )\n",
    "        #nots.append(secs)"
   ]
  },
  {
   "cell_type": "code",
   "execution_count": 8,
   "metadata": {},
   "outputs": [],
   "source": [
    "both['Net Time Fixed'] = results"
   ]
  },
  {
   "cell_type": "code",
   "execution_count": 9,
   "metadata": {},
   "outputs": [
    {
     "data": {
      "text/html": [
       "<div>\n",
       "<style scoped>\n",
       "    .dataframe tbody tr th:only-of-type {\n",
       "        vertical-align: middle;\n",
       "    }\n",
       "\n",
       "    .dataframe tbody tr th {\n",
       "        vertical-align: top;\n",
       "    }\n",
       "\n",
       "    .dataframe thead th {\n",
       "        text-align: right;\n",
       "    }\n",
       "</style>\n",
       "<table border=\"1\" class=\"dataframe\">\n",
       "  <thead>\n",
       "    <tr style=\"text-align: right;\">\n",
       "      <th></th>\n",
       "      <th>Place</th>\n",
       "      <th>Div/Tot</th>\n",
       "      <th>Num</th>\n",
       "      <th>Name</th>\n",
       "      <th>Ag</th>\n",
       "      <th>Hometown</th>\n",
       "      <th>Gun Tim</th>\n",
       "      <th>Net Tim</th>\n",
       "      <th>Pace</th>\n",
       "      <th>sex</th>\n",
       "      <th>Net Time Fixed</th>\n",
       "    </tr>\n",
       "  </thead>\n",
       "  <tbody>\n",
       "    <tr>\n",
       "      <td>0</td>\n",
       "      <td>1</td>\n",
       "      <td>1/48</td>\n",
       "      <td>9</td>\n",
       "      <td>Joshua Kemei</td>\n",
       "      <td>22.0</td>\n",
       "      <td>Kenya .</td>\n",
       "      <td>28:48</td>\n",
       "      <td>28:47#</td>\n",
       "      <td>4:38</td>\n",
       "      <td>1</td>\n",
       "      <td>28.47</td>\n",
       "    </tr>\n",
       "    <tr>\n",
       "      <td>1</td>\n",
       "      <td>2</td>\n",
       "      <td>2/48</td>\n",
       "      <td>35</td>\n",
       "      <td>George Kirwa Misoi</td>\n",
       "      <td>22.0</td>\n",
       "      <td>Kenya .</td>\n",
       "      <td>29:11</td>\n",
       "      <td>29:10#</td>\n",
       "      <td>4:42</td>\n",
       "      <td>1</td>\n",
       "      <td>29.10</td>\n",
       "    </tr>\n",
       "    <tr>\n",
       "      <td>2</td>\n",
       "      <td>3</td>\n",
       "      <td>3/48</td>\n",
       "      <td>3</td>\n",
       "      <td>Jacob Frey</td>\n",
       "      <td>24.0</td>\n",
       "      <td>Oakton VA</td>\n",
       "      <td>29:38</td>\n",
       "      <td>29:37#</td>\n",
       "      <td>4:46</td>\n",
       "      <td>1</td>\n",
       "      <td>29.37</td>\n",
       "    </tr>\n",
       "    <tr>\n",
       "      <td>3</td>\n",
       "      <td>4</td>\n",
       "      <td>1/96</td>\n",
       "      <td>49</td>\n",
       "      <td>Gurmessa Kumsa</td>\n",
       "      <td>27.0</td>\n",
       "      <td>Oxon Hill MD</td>\n",
       "      <td>29:46</td>\n",
       "      <td>29:46#</td>\n",
       "      <td>4:48</td>\n",
       "      <td>1</td>\n",
       "      <td>29.46</td>\n",
       "    </tr>\n",
       "    <tr>\n",
       "      <td>4</td>\n",
       "      <td>5</td>\n",
       "      <td>4/48</td>\n",
       "      <td>31</td>\n",
       "      <td>Mike Baird</td>\n",
       "      <td>24.0</td>\n",
       "      <td>Ardmore PA</td>\n",
       "      <td>30:31</td>\n",
       "      <td>30:30</td>\n",
       "      <td>4:55</td>\n",
       "      <td>1</td>\n",
       "      <td>30.30</td>\n",
       "    </tr>\n",
       "  </tbody>\n",
       "</table>\n",
       "</div>"
      ],
      "text/plain": [
       "   Place Div/Tot  Num                Name    Ag      Hometown Gun Tim Net Tim  \\\n",
       "0      1    1/48    9        Joshua Kemei  22.0       Kenya .   28:48  28:47#   \n",
       "1      2    2/48   35  George Kirwa Misoi  22.0       Kenya .   29:11  29:10#   \n",
       "2      3    3/48    3          Jacob Frey  24.0     Oakton VA   29:38  29:37#   \n",
       "3      4    1/96   49      Gurmessa Kumsa  27.0  Oxon Hill MD   29:46  29:46#   \n",
       "4      5    4/48   31          Mike Baird  24.0    Ardmore PA   30:31   30:30   \n",
       "\n",
       "   Pace  sex  Net Time Fixed  \n",
       "0  4:38    1           28.47  \n",
       "1  4:42    1           29.10  \n",
       "2  4:46    1           29.37  \n",
       "3  4:48    1           29.46  \n",
       "4  4:55    1           30.30  "
      ]
     },
     "execution_count": 9,
     "metadata": {},
     "output_type": "execute_result"
    }
   ],
   "source": [
    "both.head()"
   ]
  },
  {
   "cell_type": "code",
   "execution_count": 16,
   "metadata": {},
   "outputs": [
    {
     "data": {
      "image/png": "[encoded data removed]",
      "text/plain": [
       "<Figure size 864x432 with 1 Axes>"
      ]
     },
     "metadata": {
      "needs_background": "light"
     },
     "output_type": "display_data"
    }
   ],
   "source": [
    "dims = (12, 6)\n",
    "fig, axs = plt.subplots(figsize=dims)\n",
    "ax = sns.boxplot(x=both[\"Net Time Fixed\"])\n",
    "ax.set_title(\" Box Plot Net Time\")\n",
    "plt.savefig(\"../charts/bp_net.png\")"
   ]
  },
  {
   "cell_type": "code",
   "execution_count": 17,
   "metadata": {},
   "outputs": [],
   "source": [
    "def get_stats(data):\n",
    "    return np.mean(data), np.median(data), stats.mode(data)[1].tolist()[0], max(data) - min(data)"
   ]
  },
  {
   "cell_type": "code",
   "execution_count": 18,
   "metadata": {},
   "outputs": [],
   "source": [
    "male_stats = get_stats(both['Net Time Fixed'][both['sex'] == 1]) \n",
    "female_stats = get_stats(both['Net Time Fixed'][both['sex'] == 0]) "
   ]
  },
  {
   "cell_type": "code",
   "execution_count": 19,
   "metadata": {},
   "outputs": [],
   "source": [
    "stats_both = male_stats + female_stats"
   ]
  },
  {
   "cell_type": "code",
   "execution_count": 20,
   "metadata": {},
   "outputs": [],
   "source": [
    "sexes = ['male','male','male','male','female','female','female','female']\n",
    "labels = ['mean', 'median', 'mode', 'range', 'mean', 'median', 'mode', 'range']"
   ]
  },
  {
   "cell_type": "code",
   "execution_count": 21,
   "metadata": {},
   "outputs": [],
   "source": [
    "dic = {'stats': stats_both, 'sex':sexes, 'labels':labels}\n"
   ]
  },
  {
   "cell_type": "code",
   "execution_count": 22,
   "metadata": {},
   "outputs": [],
   "source": [
    "stats_df = pd.DataFrame(dic)"
   ]
  },
  {
   "cell_type": "code",
   "execution_count": 23,
   "metadata": {},
   "outputs": [
    {
     "data": {
      "image/png": "[encoded data removed]",
      "text/plain": [
       "<Figure size 864x432 with 1 Axes>"
      ]
     },
     "metadata": {
      "needs_background": "light"
     },
     "output_type": "display_data"
    }
   ],
   "source": [
    "with sns.color_palette(\"Paired\"):\n",
    "    dims = (12, 6)\n",
    "    fig, axs = plt.subplots(figsize=dims)\n",
    "    ax = sns.barplot(x=\"labels\", y=\"stats\", hue=\"sex\", data=stats_df)\n",
    "\n",
    "    ax.set_title(\"Net Time Statistics: Men and Women Runners\")\n",
    "    plt.savefig(\"../charts/stats_men_vs_women.png\")\n",
    "    plt.show(ax);"
   ]
  },
  {
   "cell_type": "code",
   "execution_count": 24,
   "metadata": {},
   "outputs": [],
   "source": [
    "results = []\n",
    "\n",
    "for i in both['Gun Tim'].tolist():\n",
    "    \n",
    "    try:\n",
    "        i = i.replace('#','')\n",
    "        i = i.replace('*','')\n",
    "        i = i.replace(':','.')\n",
    "        results.append(float(i))\n",
    "        \n",
    "    except:\n",
    "        \n",
    "        try:\n",
    " \n",
    "            results.append(float(i[0:4]) )\n",
    "            #print(i[4:])\n",
    "        except:\n",
    "            results.append(float(i[4:]))\n",
    "       "
   ]
  },
  {
   "cell_type": "code",
   "execution_count": 25,
   "metadata": {},
   "outputs": [],
   "source": [
    "results = []\n",
    "other = []\n",
    "for i in both['Gun Tim'].tolist():\n",
    "    try:\n",
    "        i = i.replace('#','')\n",
    "        i = i.replace('*','')\n",
    "        i = i.replace(':','.')\n",
    "        results.append(float(i))\n",
    "        \n",
    "    except:\n",
    "        try:\n",
    "            minutes, secs = i[2:].split('.')\n",
    "            minutes = minutes.replace('0', '')\n",
    "        \n",
    "            if minutes:\n",
    "             \n",
    "                results.append(float(60 + int(minutes) + float(secs)))\n",
    "        \n",
    "            else:\n",
    "                results.append(float(60 + int(0) + float(secs)))\n",
    "        except:\n",
    "            i = i.replace('D', '').lstrip()\n",
    "            i = i.replace('M', '').lstrip()\n",
    "            i = i.replace('V', '').lstrip()\n",
    "            i = i.replace('N', '').lstrip()\n",
    "            \n",
    "      \n",
    "            minutes, secs = i[2:].split('.')\n",
    "            minutes = minutes.replace('0', '')\n",
    "        \n",
    "            if minutes:\n",
    "             \n",
    "                results.append(float(60 + int(minutes) + float(secs)))\n",
    "        \n",
    "            else:\n",
    "                results.append(float(60 + int(0) + float(secs)))\n",
    "        "
   ]
  },
  {
   "cell_type": "code",
   "execution_count": 26,
   "metadata": {},
   "outputs": [],
   "source": [
    "both['Gun Tim Fixed'] = results"
   ]
  },
  {
   "cell_type": "code",
   "execution_count": 28,
   "metadata": {},
   "outputs": [
    {
     "data": {
      "image/png": "[encoded data removed]",
      "text/plain": [
       "<Figure size 864x432 with 1 Axes>"
      ]
     },
     "metadata": {
      "needs_background": "light"
     },
     "output_type": "display_data"
    }
   ],
   "source": [
    "dims = (12, 6)\n",
    "fig, axs = plt.subplots(figsize=dims)\n",
    "ax = sns.boxplot(x=both[\"Gun Tim Fixed\"])\n",
    "ax.set_title(\" Box Plot Gun Time\")\n",
    "plt.savefig(\"../charts/bp_gun.png\")"
   ]
  },
  {
   "cell_type": "code",
   "execution_count": 29,
   "metadata": {},
   "outputs": [],
   "source": [
    "both['GT - NT'] = both['Gun Tim Fixed'] - both['Net Time Fixed']"
   ]
  },
  {
   "cell_type": "code",
   "execution_count": 38,
   "metadata": {},
   "outputs": [
    {
     "data": {
      "image/png": "[encoded data removed]",
      "text/plain": [
       "<Figure size 864x432 with 1 Axes>"
      ]
     },
     "metadata": {
      "needs_background": "light"
     },
     "output_type": "display_data"
    }
   ],
   "source": [
    "dims = (12, 6)\n",
    "fig, axs = plt.subplots(figsize=dims)\n",
    "ax = sns.boxplot(x=both[\"GT - NT\"])\n",
    "ax.set_title(\" Box Plot Gun Time minus Net Time\")\n",
    "plt.savefig(\"../charts/bp_g_minus_t.png\")"
   ]
  },
  {
   "cell_type": "code",
   "execution_count": 39,
   "metadata": {},
   "outputs": [
    {
     "data": {
      "text/html": [
       "<div>\n",
       "<style scoped>\n",
       "    .dataframe tbody tr th:only-of-type {\n",
       "        vertical-align: middle;\n",
       "    }\n",
       "\n",
       "    .dataframe tbody tr th {\n",
       "        vertical-align: top;\n",
       "    }\n",
       "\n",
       "    .dataframe thead th {\n",
       "        text-align: right;\n",
       "    }\n",
       "</style>\n",
       "<table border=\"1\" class=\"dataframe\">\n",
       "  <thead>\n",
       "    <tr style=\"text-align: right;\">\n",
       "      <th></th>\n",
       "      <th>Place</th>\n",
       "      <th>Div/Tot</th>\n",
       "      <th>Num</th>\n",
       "      <th>Name</th>\n",
       "      <th>Ag</th>\n",
       "      <th>Hometown</th>\n",
       "      <th>Gun Tim</th>\n",
       "      <th>Net Tim</th>\n",
       "      <th>Pace</th>\n",
       "      <th>sex</th>\n",
       "      <th>Net Time Fixed</th>\n",
       "      <th>Gun Tim Fixed</th>\n",
       "      <th>GT - NT</th>\n",
       "    </tr>\n",
       "  </thead>\n",
       "  <tbody>\n",
       "    <tr>\n",
       "      <td>0</td>\n",
       "      <td>1</td>\n",
       "      <td>1/48</td>\n",
       "      <td>9</td>\n",
       "      <td>Joshua Kemei</td>\n",
       "      <td>22.0</td>\n",
       "      <td>Kenya .</td>\n",
       "      <td>28:48</td>\n",
       "      <td>28:47#</td>\n",
       "      <td>4:38</td>\n",
       "      <td>1</td>\n",
       "      <td>28.47</td>\n",
       "      <td>28.48</td>\n",
       "      <td>0.01</td>\n",
       "    </tr>\n",
       "    <tr>\n",
       "      <td>1</td>\n",
       "      <td>2</td>\n",
       "      <td>2/48</td>\n",
       "      <td>35</td>\n",
       "      <td>George Kirwa Misoi</td>\n",
       "      <td>22.0</td>\n",
       "      <td>Kenya .</td>\n",
       "      <td>29:11</td>\n",
       "      <td>29:10#</td>\n",
       "      <td>4:42</td>\n",
       "      <td>1</td>\n",
       "      <td>29.10</td>\n",
       "      <td>29.11</td>\n",
       "      <td>0.01</td>\n",
       "    </tr>\n",
       "    <tr>\n",
       "      <td>2</td>\n",
       "      <td>3</td>\n",
       "      <td>3/48</td>\n",
       "      <td>3</td>\n",
       "      <td>Jacob Frey</td>\n",
       "      <td>24.0</td>\n",
       "      <td>Oakton VA</td>\n",
       "      <td>29:38</td>\n",
       "      <td>29:37#</td>\n",
       "      <td>4:46</td>\n",
       "      <td>1</td>\n",
       "      <td>29.37</td>\n",
       "      <td>29.38</td>\n",
       "      <td>0.01</td>\n",
       "    </tr>\n",
       "    <tr>\n",
       "      <td>3</td>\n",
       "      <td>4</td>\n",
       "      <td>1/96</td>\n",
       "      <td>49</td>\n",
       "      <td>Gurmessa Kumsa</td>\n",
       "      <td>27.0</td>\n",
       "      <td>Oxon Hill MD</td>\n",
       "      <td>29:46</td>\n",
       "      <td>29:46#</td>\n",
       "      <td>4:48</td>\n",
       "      <td>1</td>\n",
       "      <td>29.46</td>\n",
       "      <td>29.46</td>\n",
       "      <td>0.00</td>\n",
       "    </tr>\n",
       "    <tr>\n",
       "      <td>4</td>\n",
       "      <td>5</td>\n",
       "      <td>4/48</td>\n",
       "      <td>31</td>\n",
       "      <td>Mike Baird</td>\n",
       "      <td>24.0</td>\n",
       "      <td>Ardmore PA</td>\n",
       "      <td>30:31</td>\n",
       "      <td>30:30</td>\n",
       "      <td>4:55</td>\n",
       "      <td>1</td>\n",
       "      <td>30.30</td>\n",
       "      <td>30.31</td>\n",
       "      <td>0.01</td>\n",
       "    </tr>\n",
       "  </tbody>\n",
       "</table>\n",
       "</div>"
      ],
      "text/plain": [
       "   Place Div/Tot  Num                Name    Ag      Hometown Gun Tim Net Tim  \\\n",
       "0      1    1/48    9        Joshua Kemei  22.0       Kenya .   28:48  28:47#   \n",
       "1      2    2/48   35  George Kirwa Misoi  22.0       Kenya .   29:11  29:10#   \n",
       "2      3    3/48    3          Jacob Frey  24.0     Oakton VA   29:38  29:37#   \n",
       "3      4    1/96   49      Gurmessa Kumsa  27.0  Oxon Hill MD   29:46  29:46#   \n",
       "4      5    4/48   31          Mike Baird  24.0    Ardmore PA   30:31   30:30   \n",
       "\n",
       "   Pace  sex  Net Time Fixed  Gun Tim Fixed  GT - NT  \n",
       "0  4:38    1           28.47          28.48     0.01  \n",
       "1  4:42    1           29.10          29.11     0.01  \n",
       "2  4:46    1           29.37          29.38     0.01  \n",
       "3  4:48    1           29.46          29.46     0.00  \n",
       "4  4:55    1           30.30          30.31     0.01  "
      ]
     },
     "execution_count": 39,
     "metadata": {},
     "output_type": "execute_result"
    }
   ],
   "source": [
    "both.head()"
   ]
  },
  {
   "cell_type": "code",
   "execution_count": 40,
   "metadata": {},
   "outputs": [],
   "source": [
    "nt_stats = get_stats(both['Net Time Fixed']) \n",
    "gt_stats = get_stats(both['Gun Tim Fixed']) "
   ]
  },
  {
   "cell_type": "code",
   "execution_count": 41,
   "metadata": {},
   "outputs": [],
   "source": [
    "stats_both = nt_stats + gt_stats"
   ]
  },
  {
   "cell_type": "code",
   "execution_count": 42,
   "metadata": {},
   "outputs": [],
   "source": [
    "times = [\"nt\",\"nt\",\"nt\",\"nt\",\"gt\",\"gt\",\"gt\",\"gt\"]"
   ]
  },
  {
   "cell_type": "code",
   "execution_count": 43,
   "metadata": {},
   "outputs": [],
   "source": [
    "labels = ['mean', 'median', 'mode', 'range', 'mean', 'median', 'mode', 'range']"
   ]
  },
  {
   "cell_type": "code",
   "execution_count": 44,
   "metadata": {},
   "outputs": [],
   "source": [
    "dic = {'stats': stats_both, 'time':times, 'labels':labels}"
   ]
  },
  {
   "cell_type": "code",
   "execution_count": 45,
   "metadata": {},
   "outputs": [],
   "source": [
    "stats_df = pd.DataFrame(dic)"
   ]
  },
  {
   "cell_type": "code",
   "execution_count": 46,
   "metadata": {},
   "outputs": [
    {
     "data": {
      "image/png": "[encoded data removed]",
      "text/plain": [
       "<Figure size 864x432 with 1 Axes>"
      ]
     },
     "metadata": {
      "needs_background": "light"
     },
     "output_type": "display_data"
    }
   ],
   "source": [
    "with sns.color_palette(\"Paired\"):\n",
    "    dims = (12, 6)\n",
    "    fig, axs = plt.subplots(figsize=dims)\n",
    "    ax = sns.barplot(x=\"labels\", y=\"stats\", hue=\"time\", data=stats_df)\n",
    "\n",
    "    ax.set_title(\"Difference Between Gun Time and Net Time\")\n",
    "    plt.savefig(\"../charts/gt_vs_nt.png\")\n",
    "    plt.show(ax);"
   ]
  },
  {
   "cell_type": "code",
   "execution_count": 47,
   "metadata": {},
   "outputs": [],
   "source": [
    "gt_minus_nt_stats = get_stats(both['GT - NT']) "
   ]
  },
  {
   "cell_type": "code",
   "execution_count": 48,
   "metadata": {},
   "outputs": [
    {
     "data": {
      "text/plain": [
       "(9.52978902953587, 3.1799999999999997, 37, 193.75)"
      ]
     },
     "execution_count": 48,
     "metadata": {},
     "output_type": "execute_result"
    }
   ],
   "source": [
    "gt_minus_nt_stats"
   ]
  },
  {
   "cell_type": "code",
   "execution_count": 49,
   "metadata": {},
   "outputs": [
    {
     "data": {
      "image/png": "[encoded data removed]",
      "text/plain": [
       "<Figure size 864x432 with 1 Axes>"
      ]
     },
     "metadata": {
      "needs_background": "light"
     },
     "output_type": "display_data"
    }
   ],
   "source": [
    "with sns.color_palette(\"Paired\"):\n",
    "    dims = (12, 6)\n",
    "    fig, axs = plt.subplots(figsize=dims)\n",
    "    ax = sns.barplot(x=['mean','median', 'mode', 'range'], y=gt_minus_nt_stats)\n",
    "\n",
    "    ax.set_title(\"Gun Time minus Net Time Statistics\")\n",
    "    plt.savefig(\"../charts/gt_minus_nt.png\")\n",
    "    plt.show(ax);"
   ]
  },
  {
   "cell_type": "code",
   "execution_count": 50,
   "metadata": {},
   "outputs": [],
   "source": [
    "\n",
    "divs = []\n",
    "tots = []\n",
    "other = []\n",
    "for dt in both['Div/Tot']:\n",
    "    \n",
    "    try:\n",
    "        div, tot = str(dt).split('/')\n",
    "    \n",
    "        divs.append(div)\n",
    "        tots.append(tot)\n",
    "        \n",
    "    except:\n",
    "        divs.append(dt)\n",
    "        tots.append(dt)"
   ]
  },
  {
   "cell_type": "code",
   "execution_count": 51,
   "metadata": {},
   "outputs": [],
   "source": [
    "both['div'] = divs\n",
    "both['tot'] = tots"
   ]
  },
  {
   "cell_type": "code",
   "execution_count": 52,
   "metadata": {},
   "outputs": [
    {
     "data": {
      "text/html": [
       "<div>\n",
       "<style scoped>\n",
       "    .dataframe tbody tr th:only-of-type {\n",
       "        vertical-align: middle;\n",
       "    }\n",
       "\n",
       "    .dataframe tbody tr th {\n",
       "        vertical-align: top;\n",
       "    }\n",
       "\n",
       "    .dataframe thead th {\n",
       "        text-align: right;\n",
       "    }\n",
       "</style>\n",
       "<table border=\"1\" class=\"dataframe\">\n",
       "  <thead>\n",
       "    <tr style=\"text-align: right;\">\n",
       "      <th></th>\n",
       "      <th>Place</th>\n",
       "      <th>Div/Tot</th>\n",
       "      <th>Num</th>\n",
       "      <th>Name</th>\n",
       "      <th>Ag</th>\n",
       "      <th>Hometown</th>\n",
       "      <th>Gun Tim</th>\n",
       "      <th>Net Tim</th>\n",
       "      <th>Pace</th>\n",
       "      <th>sex</th>\n",
       "      <th>Net Time Fixed</th>\n",
       "      <th>Gun Tim Fixed</th>\n",
       "      <th>GT - NT</th>\n",
       "      <th>div</th>\n",
       "      <th>tot</th>\n",
       "    </tr>\n",
       "  </thead>\n",
       "  <tbody>\n",
       "    <tr>\n",
       "      <td>0</td>\n",
       "      <td>1</td>\n",
       "      <td>1/48</td>\n",
       "      <td>9</td>\n",
       "      <td>Joshua Kemei</td>\n",
       "      <td>22.0</td>\n",
       "      <td>Kenya .</td>\n",
       "      <td>28:48</td>\n",
       "      <td>28:47#</td>\n",
       "      <td>4:38</td>\n",
       "      <td>1</td>\n",
       "      <td>28.47</td>\n",
       "      <td>28.48</td>\n",
       "      <td>0.01</td>\n",
       "      <td>1</td>\n",
       "      <td>48</td>\n",
       "    </tr>\n",
       "    <tr>\n",
       "      <td>1</td>\n",
       "      <td>2</td>\n",
       "      <td>2/48</td>\n",
       "      <td>35</td>\n",
       "      <td>George Kirwa Misoi</td>\n",
       "      <td>22.0</td>\n",
       "      <td>Kenya .</td>\n",
       "      <td>29:11</td>\n",
       "      <td>29:10#</td>\n",
       "      <td>4:42</td>\n",
       "      <td>1</td>\n",
       "      <td>29.10</td>\n",
       "      <td>29.11</td>\n",
       "      <td>0.01</td>\n",
       "      <td>2</td>\n",
       "      <td>48</td>\n",
       "    </tr>\n",
       "    <tr>\n",
       "      <td>2</td>\n",
       "      <td>3</td>\n",
       "      <td>3/48</td>\n",
       "      <td>3</td>\n",
       "      <td>Jacob Frey</td>\n",
       "      <td>24.0</td>\n",
       "      <td>Oakton VA</td>\n",
       "      <td>29:38</td>\n",
       "      <td>29:37#</td>\n",
       "      <td>4:46</td>\n",
       "      <td>1</td>\n",
       "      <td>29.37</td>\n",
       "      <td>29.38</td>\n",
       "      <td>0.01</td>\n",
       "      <td>3</td>\n",
       "      <td>48</td>\n",
       "    </tr>\n",
       "    <tr>\n",
       "      <td>3</td>\n",
       "      <td>4</td>\n",
       "      <td>1/96</td>\n",
       "      <td>49</td>\n",
       "      <td>Gurmessa Kumsa</td>\n",
       "      <td>27.0</td>\n",
       "      <td>Oxon Hill MD</td>\n",
       "      <td>29:46</td>\n",
       "      <td>29:46#</td>\n",
       "      <td>4:48</td>\n",
       "      <td>1</td>\n",
       "      <td>29.46</td>\n",
       "      <td>29.46</td>\n",
       "      <td>0.00</td>\n",
       "      <td>1</td>\n",
       "      <td>96</td>\n",
       "    </tr>\n",
       "    <tr>\n",
       "      <td>4</td>\n",
       "      <td>5</td>\n",
       "      <td>4/48</td>\n",
       "      <td>31</td>\n",
       "      <td>Mike Baird</td>\n",
       "      <td>24.0</td>\n",
       "      <td>Ardmore PA</td>\n",
       "      <td>30:31</td>\n",
       "      <td>30:30</td>\n",
       "      <td>4:55</td>\n",
       "      <td>1</td>\n",
       "      <td>30.30</td>\n",
       "      <td>30.31</td>\n",
       "      <td>0.01</td>\n",
       "      <td>4</td>\n",
       "      <td>48</td>\n",
       "    </tr>\n",
       "  </tbody>\n",
       "</table>\n",
       "</div>"
      ],
      "text/plain": [
       "   Place Div/Tot  Num                Name    Ag      Hometown Gun Tim Net Tim  \\\n",
       "0      1    1/48    9        Joshua Kemei  22.0       Kenya .   28:48  28:47#   \n",
       "1      2    2/48   35  George Kirwa Misoi  22.0       Kenya .   29:11  29:10#   \n",
       "2      3    3/48    3          Jacob Frey  24.0     Oakton VA   29:38  29:37#   \n",
       "3      4    1/96   49      Gurmessa Kumsa  27.0  Oxon Hill MD   29:46  29:46#   \n",
       "4      5    4/48   31          Mike Baird  24.0    Ardmore PA   30:31   30:30   \n",
       "\n",
       "   Pace  sex  Net Time Fixed  Gun Tim Fixed  GT - NT div tot  \n",
       "0  4:38    1           28.47          28.48     0.01   1  48  \n",
       "1  4:42    1           29.10          29.11     0.01   2  48  \n",
       "2  4:46    1           29.37          29.38     0.01   3  48  \n",
       "3  4:48    1           29.46          29.46     0.00   1  96  \n",
       "4  4:55    1           30.30          30.31     0.01   4  48  "
      ]
     },
     "execution_count": 52,
     "metadata": {},
     "output_type": "execute_result"
    }
   ],
   "source": [
    "both.head()"
   ]
  },
  {
   "cell_type": "code",
   "execution_count": 53,
   "metadata": {},
   "outputs": [
    {
     "data": {
      "text/html": [
       "<div>\n",
       "<style scoped>\n",
       "    .dataframe tbody tr th:only-of-type {\n",
       "        vertical-align: middle;\n",
       "    }\n",
       "\n",
       "    .dataframe tbody tr th {\n",
       "        vertical-align: top;\n",
       "    }\n",
       "\n",
       "    .dataframe thead th {\n",
       "        text-align: right;\n",
       "    }\n",
       "</style>\n",
       "<table border=\"1\" class=\"dataframe\">\n",
       "  <thead>\n",
       "    <tr style=\"text-align: right;\">\n",
       "      <th></th>\n",
       "      <th>Place</th>\n",
       "      <th>Div/Tot</th>\n",
       "      <th>Num</th>\n",
       "      <th>Name</th>\n",
       "      <th>Ag</th>\n",
       "      <th>Hometown</th>\n",
       "      <th>Gun Tim</th>\n",
       "      <th>Net Tim</th>\n",
       "      <th>Pace</th>\n",
       "      <th>sex</th>\n",
       "      <th>Net Time Fixed</th>\n",
       "      <th>Gun Tim Fixed</th>\n",
       "      <th>GT - NT</th>\n",
       "      <th>div</th>\n",
       "      <th>tot</th>\n",
       "    </tr>\n",
       "  </thead>\n",
       "  <tbody>\n",
       "    <tr>\n",
       "      <td>534</td>\n",
       "      <td>535</td>\n",
       "      <td>108/214</td>\n",
       "      <td>2869</td>\n",
       "      <td>Chris Doe</td>\n",
       "      <td>44.0</td>\n",
       "      <td>Reson VA</td>\n",
       "      <td>53:07</td>\n",
       "      <td>49:43</td>\n",
       "      <td>8:00</td>\n",
       "      <td>1</td>\n",
       "      <td>49.43</td>\n",
       "      <td>53.07</td>\n",
       "      <td>3.64</td>\n",
       "      <td>108</td>\n",
       "      <td>214</td>\n",
       "    </tr>\n",
       "  </tbody>\n",
       "</table>\n",
       "</div>"
      ],
      "text/plain": [
       "     Place  Div/Tot   Num       Name    Ag  Hometown Gun Tim Net Tim  Pace  \\\n",
       "534    535  108/214  2869  Chris Doe  44.0  Reson VA   53:07   49:43  8:00   \n",
       "\n",
       "     sex  Net Time Fixed  Gun Tim Fixed  GT - NT  div  tot  \n",
       "534    1           49.43          53.07     3.64  108  214  "
      ]
     },
     "execution_count": 53,
     "metadata": {},
     "output_type": "execute_result"
    }
   ],
   "source": [
    "both[both['Name'] == \"Chris Doe\"]"
   ]
  },
  {
   "cell_type": "code",
   "execution_count": 54,
   "metadata": {},
   "outputs": [],
   "source": [
    "percentiles = np.percentile(both['Net Time Fixed'][both['div'] == '108'], \n",
    "                            [10,20,30,40,50,60,70,80,90])"
   ]
  },
  {
   "cell_type": "code",
   "execution_count": 55,
   "metadata": {},
   "outputs": [],
   "source": [
    "perc_list = list(percentiles).reverse()"
   ]
  },
  {
   "cell_type": "code",
   "execution_count": 56,
   "metadata": {},
   "outputs": [
    {
     "data": {
      "text/plain": [
       "array([51.86 , 52.282, 54.427, 56.428, 58.105, 59.226, 67.743, 88.2  ,\n",
       "       93.7  ])"
      ]
     },
     "execution_count": 56,
     "metadata": {},
     "output_type": "execute_result"
    }
   ],
   "source": [
    "percentiles"
   ]
  },
  {
   "cell_type": "code",
   "execution_count": 57,
   "metadata": {},
   "outputs": [],
   "source": [
    "labels = ['10th', '20th', '30th', '40th', '50th', '60th', '70th', '80th', '90th']"
   ]
  },
  {
   "cell_type": "code",
   "execution_count": 58,
   "metadata": {},
   "outputs": [
    {
     "data": {
      "image/png": "[encoded data removed]",
      "text/plain": [
       "<Figure size 864x432 with 1 Axes>"
      ]
     },
     "metadata": {
      "needs_background": "light"
     },
     "output_type": "display_data"
    }
   ],
   "source": [
    "with sns.color_palette(\"Paired\"):\n",
    "    dims = (12, 6)\n",
    "    fig, axs = plt.subplots(figsize=dims)\n",
    "    ax = sns.barplot(x=labels, y=percentiles.tolist())\n",
    "    #ax1 = ax.axes[0]\n",
    "\n",
    "    ax.axhline(49.43, ls='--')\n",
    "    ax.set_title(\"Race Percentiles vs Joe Doe\")\n",
    "    plt.savefig(\"../charts/joe_doe.png\")\n",
    "    plt.show(ax);"
   ]
  },
  {
   "cell_type": "code",
   "execution_count": 59,
   "metadata": {},
   "outputs": [
    {
     "name": "stdout",
     "output_type": "stream",
     "text": [
      "Joe is 2.43 seconds below the top 10% of racers!\n"
     ]
    }
   ],
   "source": [
    "#If we compare Joe to the top of the 90th percentile:\n",
    "print(\"Joe is {} seconds below the top 10% of racers!\".format(round(51.86-49.43, 2)))"
   ]
  },
  {
   "cell_type": "code",
   "execution_count": 60,
   "metadata": {},
   "outputs": [],
   "source": [
    "race_means = both[['div', 'Net Time Fixed']].groupby(['div']).mean()\n"
   ]
  },
  {
   "cell_type": "code",
   "execution_count": 61,
   "metadata": {},
   "outputs": [],
   "source": [
    "race_means['div'] =  race_means.index"
   ]
  },
  {
   "cell_type": "code",
   "execution_count": 62,
   "metadata": {},
   "outputs": [],
   "source": [
    "race_means.sort_values(by='Net Time Fixed', inplace=True, ascending=True)"
   ]
  },
  {
   "cell_type": "code",
   "execution_count": 63,
   "metadata": {},
   "outputs": [
    {
     "data": {
      "text/html": [
       "<div>\n",
       "<style scoped>\n",
       "    .dataframe tbody tr th:only-of-type {\n",
       "        vertical-align: middle;\n",
       "    }\n",
       "\n",
       "    .dataframe tbody tr th {\n",
       "        vertical-align: top;\n",
       "    }\n",
       "\n",
       "    .dataframe thead th {\n",
       "        text-align: right;\n",
       "    }\n",
       "</style>\n",
       "<table border=\"1\" class=\"dataframe\">\n",
       "  <thead>\n",
       "    <tr style=\"text-align: right;\">\n",
       "      <th></th>\n",
       "      <th>Net Time Fixed</th>\n",
       "      <th>div</th>\n",
       "    </tr>\n",
       "    <tr>\n",
       "      <th>div</th>\n",
       "      <th></th>\n",
       "      <th></th>\n",
       "    </tr>\n",
       "  </thead>\n",
       "  <tbody>\n",
       "    <tr>\n",
       "      <td>1</td>\n",
       "      <td>41.832500</td>\n",
       "      <td>1</td>\n",
       "    </tr>\n",
       "    <tr>\n",
       "      <td>4</td>\n",
       "      <td>43.632800</td>\n",
       "      <td>4</td>\n",
       "    </tr>\n",
       "    <tr>\n",
       "      <td>2</td>\n",
       "      <td>43.862500</td>\n",
       "      <td>2</td>\n",
       "    </tr>\n",
       "    <tr>\n",
       "      <td>7</td>\n",
       "      <td>43.894783</td>\n",
       "      <td>7</td>\n",
       "    </tr>\n",
       "    <tr>\n",
       "      <td>8</td>\n",
       "      <td>44.576957</td>\n",
       "      <td>8</td>\n",
       "    </tr>\n",
       "  </tbody>\n",
       "</table>\n",
       "</div>"
      ],
      "text/plain": [
       "     Net Time Fixed div\n",
       "div                    \n",
       "1         41.832500   1\n",
       "4         43.632800   4\n",
       "2         43.862500   2\n",
       "7         43.894783   7\n",
       "8         44.576957   8"
      ]
     },
     "execution_count": 63,
     "metadata": {},
     "output_type": "execute_result"
    }
   ],
   "source": [
    "race_means.head()"
   ]
  },
  {
   "cell_type": "code",
   "execution_count": 64,
   "metadata": {},
   "outputs": [
    {
     "data": {
      "image/png": "[encoded data removed]",
      "text/plain": [
       "<Figure size 864x432 with 1 Axes>"
      ]
     },
     "metadata": {
      "needs_background": "light"
     },
     "output_type": "display_data"
    }
   ],
   "source": [
    "with sns.color_palette(\"Paired\"):\n",
    "    dims = (12, 6)\n",
    "    fig, axs = plt.subplots(figsize=dims)\n",
    "    ax = sns.barplot(x=race_means['div'].iloc[0:20], \n",
    "                     y=race_means['Net Time Fixed'].iloc[0:20],\n",
    "                    order=race_means.index[0:20])\n",
    "\n",
    "    ax.set_title(\"Top 20 Divisions: Mean Net Time\")\n",
    "    plt.savefig(\"../charts/div_mean.png\")\n",
    "    plt.show(ax);"
   ]
  },
  {
   "cell_type": "code",
   "execution_count": null,
   "metadata": {},
   "outputs": [],
   "source": []
  }
 ],
 "metadata": {
  "kernelspec": {
   "display_name": "Python 3",
   "language": "python",
   "name": "python3"
  },
  "language_info": {
   "codemirror_mode": {
    "name": "ipython",
    "version": 3
   },
   "file_extension": ".py",
   "mimetype": "text/x-python",
   "name": "python",
   "nbconvert_exporter": "python",
   "pygments_lexer": "ipython3",
   "version": "3.7.4"
  }
 },
 "nbformat": 4,
 "nbformat_minor": 2
}
